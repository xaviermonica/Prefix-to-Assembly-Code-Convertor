{
  "nbformat": 4,
  "nbformat_minor": 0,
  "metadata": {
    "colab": {
      "provenance": []
    },
    "kernelspec": {
      "name": "python3",
      "display_name": "Python 3"
    },
    "language_info": {
      "name": "python"
    }
  },
  "cells": [
    {
      "cell_type": "code",
      "execution_count": 1,
      "metadata": {
        "colab": {
          "base_uri": "https://localhost:8080/"
        },
        "id": "LmTs-ZNQdur4",
        "outputId": "759371b2-41b3-43f1-c48e-d1bb57622068"
      },
      "outputs": [
        {
          "output_type": "stream",
          "name": "stdout",
          "text": [
            "Enter a prefix expression: + 6 7\n",
            "add 6, 7\n",
            "mov eax, 6\n",
            "call print_result\n"
          ]
        }
      ],
      "source": [
        "def generate_assembly(prefix_expression):\n",
        "    stack = []\n",
        "\n",
        "    # Define a dictionary for mapping operators to assembly instructions\n",
        "    operators = {\n",
        "        '+': 'add',\n",
        "        '-': 'sub',\n",
        "        '*': 'imul',\n",
        "        '/': 'idiv',\n",
        "    }\n",
        "\n",
        "    assembly_code = []\n",
        "\n",
        "    # Iterate through the tokens in reverse order (right to left)\n",
        "    for token in reversed(prefix_expression):\n",
        "        if token.isdigit():\n",
        "            stack.append(token)  # Push operands onto the stack\n",
        "        elif token in operators:\n",
        "            # Pop two operands from the stack\n",
        "            operand1 = stack.pop()\n",
        "            operand2 = stack.pop()\n",
        "\n",
        "            # Generate the corresponding assembly instruction\n",
        "            instruction = operators[token]\n",
        "\n",
        "            # Emit the assembly instruction\n",
        "            assembly_code.append(f'{instruction} {operand1}, {operand2}')\n",
        "\n",
        "            # Push the result back onto the stack\n",
        "            stack.append(operand1)\n",
        "        else:\n",
        "            raise ValueError(f\"Invalid token: {token}\")\n",
        "\n",
        "    # The final result should be on top of the stack\n",
        "    if len(stack) != 1:\n",
        "        raise ValueError(\"Invalid prefix expression\")\n",
        "\n",
        "    # Add code to print the result (assuming x86 assembly)\n",
        "    result = stack[0]\n",
        "    assembly_code.append(f'mov eax, {result}')\n",
        "    assembly_code.append('call print_result')\n",
        "\n",
        "    return '\\n'.join(assembly_code)\n",
        "\n",
        "\n",
        "# Get the prefix expression from the user\n",
        "prefix_expression = input(\"Enter a prefix expression: \").split()\n",
        "\n",
        "# Example usage:\n",
        "assembly_code = generate_assembly(prefix_expression)\n",
        "print(assembly_code)"
      ]
    }
  ]
}